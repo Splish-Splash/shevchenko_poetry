{
  "nbformat": 4,
  "nbformat_minor": 0,
  "metadata": {
    "colab": {
      "provenance": []
    },
    "kernelspec": {
      "name": "python3",
      "display_name": "Python 3"
    },
    "language_info": {
      "name": "python"
    }
  },
  "cells": [
    {
      "cell_type": "code",
      "execution_count": null,
      "metadata": {
        "colab": {
          "base_uri": "https://localhost:8080/"
        },
        "id": "--OA8OM2GGy0",
        "outputId": "880a6224-8acf-4ef6-b5a5-9eb95e8a872c"
      },
      "outputs": [
        {
          "output_type": "stream",
          "name": "stdout",
          "text": [
            "--2022-09-19 09:35:10--  https://lang.org.ua/static/downloads/models/fiction.lowercased.tokenized.word2vec.300d.bz2\n",
            "Resolving lang.org.ua (lang.org.ua)... 95.216.74.77\n",
            "Connecting to lang.org.ua (lang.org.ua)|95.216.74.77|:443... connected.\n",
            "HTTP request sent, awaiting response... 200 OK\n",
            "Length: 97108162 (93M) [application/octet-stream]\n",
            "Saving to: ‘fiction.lowercased.tokenized.word2vec.300d.bz2’\n",
            "\n",
            "fiction.lowercased. 100%[===================>]  92.61M  18.9MB/s    in 5.8s    \n",
            "\n",
            "2022-09-19 09:35:17 (15.9 MB/s) - ‘fiction.lowercased.tokenized.word2vec.300d.bz2’ saved [97108162/97108162]\n",
            "\n"
          ]
        }
      ],
      "source": [
        "!wget https://lang.org.ua/static/downloads/models/fiction.lowercased.tokenized.word2vec.300d.bz2"
      ]
    },
    {
      "cell_type": "code",
      "source": [
        "!jupyter notebook --NotebookApp.iopub_data_rate_limit=1.0e10"
      ],
      "metadata": {
        "colab": {
          "base_uri": "https://localhost:8080/"
        },
        "id": "2UAtNPw6Jg-0",
        "outputId": "b5d2641e-6a00-401e-8635-45a5f211a4b8"
      },
      "execution_count": null,
      "outputs": [
        {
          "output_type": "stream",
          "name": "stdout",
          "text": [
            "Traceback (most recent call last):\n",
            "  File \"/usr/local/bin/jupyter-notebook\", line 8, in <module>\n",
            "    sys.exit(main())\n",
            "  File \"/usr/local/lib/python3.7/dist-packages/jupyter_core/application.py\", line 269, in launch_instance\n",
            "    return super().launch_instance(argv=argv, **kwargs)\n",
            "  File \"/usr/local/lib/python3.7/dist-packages/traitlets/config/application.py\", line 845, in launch_instance\n",
            "    app.initialize(argv)\n",
            "  File \"/usr/local/lib/python3.7/dist-packages/traitlets/config/application.py\", line 88, in inner\n",
            "    return method(app, *args, **kwargs)\n",
            "  File \"/usr/local/lib/python3.7/dist-packages/notebook/notebookapp.py\", line 1507, in initialize\n",
            "    self.init_webapp()\n",
            "  File \"/usr/local/lib/python3.7/dist-packages/notebook/notebookapp.py\", line 1297, in init_webapp\n",
            "    self.http_server.listen(port, self.ip)\n",
            "  File \"/usr/local/lib/python3.7/dist-packages/tornado/tcpserver.py\", line 143, in listen\n",
            "    sockets = bind_sockets(port, address=address)\n",
            "  File \"/usr/local/lib/python3.7/dist-packages/tornado/netutil.py\", line 168, in bind_sockets\n",
            "    sock.bind(sockaddr)\n",
            "OSError: [Errno 99] Cannot assign requested address\n"
          ]
        }
      ]
    },
    {
      "cell_type": "code",
      "source": [
        "import bz2\n",
        "file = bz2.open('fiction.lowercased.tokenized.word2vec.300d.bz2')\n",
        "print(file)"
      ],
      "metadata": {
        "colab": {
          "base_uri": "https://localhost:8080/"
        },
        "id": "NZ9IF6e9GHz5",
        "outputId": "cb04b8f1-ea3b-4ee6-9e66-3bd43ec3fa75"
      },
      "execution_count": null,
      "outputs": [
        {
          "output_type": "stream",
          "name": "stdout",
          "text": [
            "<bz2.BZ2File object at 0x7f75fc428250>\n"
          ]
        }
      ]
    },
    {
      "cell_type": "code",
      "source": [
        "from gensim.models import Word2Vec, KeyedVectors\n",
        "word2vec = KeyedVectors.load_word2vec_format('word2vec.txt', binary=False)"
      ],
      "metadata": {
        "id": "gy0lpidLJ3G4"
      },
      "execution_count": null,
      "outputs": []
    },
    {
      "cell_type": "code",
      "source": [
        "word2vec.most_similar(positive=['й'])"
      ],
      "metadata": {
        "colab": {
          "base_uri": "https://localhost:8080/"
        },
        "id": "oFwviHnlK7Hr",
        "outputId": "0c468bf6-e5ad-409b-9dd4-3e40b1bb8693"
      },
      "execution_count": null,
      "outputs": [
        {
          "output_type": "execute_result",
          "data": {
            "text/plain": [
              "[('і', 0.456054151058197),\n",
              " ('та', 0.28648748993873596),\n",
              " ('а', 0.2848871350288391),\n",
              " ('прясти', 0.2751741111278534),\n",
              " ('натомість', 0.2709176540374756),\n",
              " ('бо', 0.2596421539783478),\n",
              " ('нишком', 0.2540859580039978),\n",
              " ('гризти', 0.2540121078491211),\n",
              " ('прямцем', 0.24934957921504974),\n",
              " ('надіть', 0.24931052327156067)]"
            ]
          },
          "metadata": {},
          "execution_count": 50
        }
      ]
    },
    {
      "cell_type": "code",
      "source": [
        "import string\n",
        "import os\n",
        "import numpy as np\n",
        "import matplotlib.pyplot as plt\n",
        "import torch"
      ],
      "metadata": {
        "id": "CDzITkc9ZJzw"
      },
      "execution_count": null,
      "outputs": []
    },
    {
      "cell_type": "code",
      "source": [
        "if not os.path.exists('kobzar.txt'):\n",
        "    ! wget https://raw.githubusercontent.com/Splish-Splash/shevchenko_poetry/main/kobzar.txt\n",
        "with open('kobzar.txt', 'r') as iofile:\n",
        "    text = iofile.readlines()"
      ],
      "metadata": {
        "id": "3j5sVqF2hGg4"
      },
      "execution_count": null,
      "outputs": []
    },
    {
      "cell_type": "code",
      "source": [
        "import string\n",
        "text = ''.join(text)\n",
        "text = text.translate(str.maketrans('', '', string.punctuation + '«' + '»'))\n",
        "text = text.replace('\\n', ' <new> ')"
      ],
      "metadata": {
        "id": "3dmikCBPbSoQ"
      },
      "execution_count": null,
      "outputs": []
    },
    {
      "cell_type": "code",
      "source": [
        "text = text.lower().split()"
      ],
      "metadata": {
        "id": "RU61BaP8ZYPE"
      },
      "execution_count": null,
      "outputs": []
    },
    {
      "cell_type": "code",
      "source": [
        "len(text)"
      ],
      "metadata": {
        "colab": {
          "base_uri": "https://localhost:8080/"
        },
        "id": "4eSrEVPIZxxF",
        "outputId": "0a9548a9-2d96-49a3-e13e-6f0647a2803f"
      },
      "execution_count": null,
      "outputs": [
        {
          "output_type": "execute_result",
          "data": {
            "text/plain": [
              "100482"
            ]
          },
          "metadata": {},
          "execution_count": 98
        }
      ]
    },
    {
      "cell_type": "code",
      "source": [
        "for word in text[:50]:\n",
        "  print(word)"
      ],
      "metadata": {
        "colab": {
          "base_uri": "https://localhost:8080/"
        },
        "id": "f_rDusn9aR92",
        "outputId": "fc0f71eb-5772-4006-ec56-868b3d9634b7"
      },
      "execution_count": null,
      "outputs": [
        {
          "output_type": "stream",
          "name": "stdout",
          "text": [
            "причинна\n",
            "<new>\n",
            "<new>\n",
            "реве\n",
            "та\n",
            "стогне\n",
            "дніпр\n",
            "широкий\n",
            "<new>\n",
            "сердитий\n",
            "вітер\n",
            "завива\n",
            "<new>\n",
            "додолу\n",
            "верби\n",
            "гне\n",
            "високі\n",
            "<new>\n",
            "горами\n",
            "хвилю\n",
            "підійма\n",
            "<new>\n",
            "і\n",
            "блідий\n",
            "місяць\n",
            "на\n",
            "ту\n",
            "пору\n",
            "<new>\n",
            "із\n",
            "хмари\n",
            "деде\n",
            "виглядав\n",
            "<new>\n",
            "неначе\n",
            "човен\n",
            "в\n",
            "синім\n",
            "морі\n",
            "<new>\n",
            "то\n",
            "виринав\n",
            "то\n",
            "потопав\n",
            "<new>\n",
            "ще\n",
            "треті\n",
            "півні\n",
            "не\n",
            "співали\n"
          ]
        }
      ]
    },
    {
      "cell_type": "code",
      "source": [
        "word2vec['<new>'] = np.zeros(300)"
      ],
      "metadata": {
        "id": "m2sz83YHc7Mj"
      },
      "execution_count": null,
      "outputs": []
    },
    {
      "cell_type": "code",
      "source": [
        "import torch.nn as nn\n",
        "import torch.nn.functional as F"
      ],
      "metadata": {
        "id": "WqB87WyJd0VV"
      },
      "execution_count": null,
      "outputs": []
    },
    {
      "cell_type": "code",
      "source": [
        "def get_batch(data, batch_size=50):\n",
        "    ind = np.random.randint(0, len(data) - batch_size)\n",
        "    return data[ind: ind + batch_size]"
      ],
      "metadata": {
        "id": "USmlbRbsd_8b"
      },
      "execution_count": null,
      "outputs": []
    },
    {
      "cell_type": "code",
      "source": [
        "text = list(filter(word2vec.__contains__, text))\n",
        "words = list(set(text))\n",
        "word_to_id = {word:i for i, word in enumerate(words)}\n"
      ],
      "metadata": {
        "id": "MF3m_7UueM-5"
      },
      "execution_count": null,
      "outputs": []
    },
    {
      "cell_type": "code",
      "source": [
        "def encode(text):\n",
        "   return list(map(word_to_id.get, text))\n",
        "  \n",
        "def decode(data):\n",
        "    return list(words.__getitem__, data.tolist())"
      ],
      "metadata": {
        "id": "ohGD1lglkzNV"
      },
      "execution_count": null,
      "outputs": []
    },
    {
      "cell_type": "code",
      "source": [
        "batch = get_batch(text)\n",
        "print(batch)\n",
        "print(encode(batch))"
      ],
      "metadata": {
        "colab": {
          "base_uri": "https://localhost:8080/"
        },
        "id": "NNoAvDmplZR_",
        "outputId": "4483cfc8-3204-4c21-a9fa-25392d923f93"
      },
      "execution_count": null,
      "outputs": [
        {
          "output_type": "stream",
          "name": "stdout",
          "text": [
            "['тихе', '<new>', 'дівоче', '<new>', 'не', 'заступить', 'не', 'закриє', '<new>', 'очі', '<new>', 'найдуть', 'злії', 'та', 'й', '<new>', 'і', 'тебе', 'убогу', '<new>', 'кинуть', 'в', '<new>', 'і', 'бога', '<new>', 'не', 'цвіти', 'ж', 'мій', 'цвіте', 'новий', '<new>', 'цвіте', '<new>', 'тихо', 'поки', 'твоє', '<new>', 'серце', 'не', 'розбите', '<new>', '20', 'декабря', '1845', '<new>', '<new>', '<new>', 'минають']\n",
            "[6838, 2163, 3766, 2163, 6074, 2997, 6074, 397, 2163, 5864, 2163, 213, 1897, 2939, 4968, 2163, 1383, 1163, 6214, 2163, 3436, 3419, 2163, 1383, 2134, 2163, 6074, 11116, 5145, 5278, 10287, 836, 2163, 10287, 2163, 1425, 4309, 4730, 2163, 4354, 6074, 2060, 2163, 10058, 1035, 5401, 2163, 2163, 2163, 10932]\n"
          ]
        }
      ]
    },
    {
      "cell_type": "code",
      "source": [
        "class LSTM(nn.Module):\n",
        "    def __init__(self, num_tokens=len(words), emb_size=300, num_units=1024):\n",
        "        super(self.__class__, self).__init__()\n",
        "        self.emb = word2vec\n",
        "        self.lstm = nn.LSTM(emb_size, num_units, num_layers=1, batch_first=True)\n",
        "        self.linear = nn.Linear(num_units, num_tokens)\n",
        "\n",
        "    def forward(self, X):\n",
        "        embedding = torch.from_numpy(self.emb[X])\n",
        "        embedding = embedding.type(torch.float32)\n",
        "        h_seq, _ = self.lstm(embedding)\n",
        "        next_logits = self.linear(h_seq)\n",
        "        next_logp = F.log_softmax(next_logits, dim=-1)\n",
        "        return next_logp\n",
        "\n",
        "model = LSTM()\n",
        "opt = torch.optim.AdamW(model.parameters())\n"
      ],
      "metadata": {
        "id": "e1bawQ05mFXx"
      },
      "execution_count": null,
      "outputs": []
    },
    {
      "cell_type": "code",
      "source": [
        "from IPython.display import clear_output\n",
        "history = []\n",
        "epochs = 1\n",
        "batch_size = 64\n",
        "for i in range(len(text) // batch_size * epochs):\n",
        "    batch = get_batch(text, batch_size)\n",
        "    X = batch[:-1]\n",
        "    y =  torch.tensor(tuple(map(word_to_id.get, batch[1:])))\n",
        "    predicted = model(X)\n",
        "    loss = F.nll_loss(predicted, y)\n",
        "    loss.backward()\n",
        "    opt.step()\n",
        "    opt.zero_grad()\n",
        "    history.append(loss.item())\n",
        "    if (i + 1) % 50 == 0:\n",
        "        clear_output(True)\n",
        "        plt.plot(history,label='loss')\n",
        "        plt.legend()\n",
        "        plt.show()"
      ],
      "metadata": {
        "colab": {
          "base_uri": "https://localhost:8080/",
          "height": 265
        },
        "id": "_PEDbg-LtaCQ",
        "outputId": "108a459c-3f82-4238-ce6a-d9163dea91ef"
      },
      "execution_count": null,
      "outputs": [
        {
          "output_type": "display_data",
          "data": {
            "text/plain": [
              "<Figure size 432x288 with 1 Axes>"
            ],
            "image/png": "[encoded data removed]"
          },
          "metadata": {
            "needs_background": "light"
          }
        }
      ]
    },
    {
      "cell_type": "code",
      "source": [
        "def generate_sample(model, seed='реве', length=50, temperature=1.0):\n",
        "      x = seed.split()\n",
        "      out = model(x[:-1])\n",
        "      # print(x[:-1])\n",
        "      for i in range(length - len(seed)):\n",
        "          out = model([x[-1]])\n",
        "          p_next = F.softmax(out / temperature, dim=-1).data.numpy()[0]\n",
        "          # p_next = out.data.view(-1).div(temperature).exp()\n",
        "          # next_ix = torch.multinomial(p_next, 1)[0]\n",
        "          # next_ix = p_next.argmax()\n",
        "          next_ix = np.random.choice(len(words), p=p_next)\n",
        "          # print(next_ix)\n",
        "          x.append(words[next_ix])\n",
        "      \n",
        "      return (' '.join(x)).replace('<new>', '\\n')"
      ],
      "metadata": {
        "id": "H2DMekb6xTe5"
      },
      "execution_count": null,
      "outputs": []
    },
    {
      "cell_type": "code",
      "source": [
        "print(generate_sample(model, 'реве та', temperature=1))"
      ],
      "metadata": {
        "colab": {
          "base_uri": "https://localhost:8080/"
        },
        "id": "pRfreZ4JxkFy",
        "outputId": "4e4567ea-7ed7-4a52-96a1-3c77742a323a"
      },
      "execution_count": null,
      "outputs": [
        {
          "output_type": "stream",
          "name": "stdout",
          "text": [
            "реве та рогнідою \n",
            " каже \n",
            " в єдиного друга \n",
            " танцювали а \n",
            " город рука \n",
            " дніпрі спущу зза а не розмовлять \n",
            " \n",
            " \n",
            " на \n",
            " тяжко \n",
            " покусає же всі а те скрутять за господине чуєш старий їх краю \n",
            " \n",
            " знову б\n"
          ]
        }
      ]
    }
  ]
}